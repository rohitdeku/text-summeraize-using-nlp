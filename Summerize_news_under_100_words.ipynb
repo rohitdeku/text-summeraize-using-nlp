{
  "nbformat": 4,
  "nbformat_minor": 0,
  "metadata": {
    "colab": {
      "provenance": []
    },
    "kernelspec": {
      "name": "python3",
      "display_name": "Python 3"
    },
    "language_info": {
      "name": "python"
    }
  },
  "cells": [
    {
      "cell_type": "code",
      "source": [
        "!pip install nltk\n",
        "!pip install bert-extractive-summarizer\n",
        "!pip install transformers"
      ],
      "metadata": {
        "colab": {
          "base_uri": "https://localhost:8080/"
        },
        "id": "JYGMadEOHQZv",
        "outputId": "d590d809-91b6-4379-a023-2f533641afe5"
      },
      "execution_count": null,
      "outputs": [
        {
          "output_type": "stream",
          "name": "stdout",
          "text": [
            "Requirement already satisfied: nltk in /usr/local/lib/python3.10/dist-packages (3.8.1)\n",
            "Requirement already satisfied: click in /usr/local/lib/python3.10/dist-packages (from nltk) (8.1.7)\n",
            "Requirement already satisfied: joblib in /usr/local/lib/python3.10/dist-packages (from nltk) (1.3.2)\n",
            "Requirement already satisfied: regex>=2021.8.3 in /usr/local/lib/python3.10/dist-packages (from nltk) (2023.12.25)\n",
            "Requirement already satisfied: tqdm in /usr/local/lib/python3.10/dist-packages (from nltk) (4.66.1)\n",
            "Collecting bert-extractive-summarizer\n",
            "  Downloading bert_extractive_summarizer-0.10.1-py3-none-any.whl (25 kB)\n",
            "Requirement already satisfied: transformers in /usr/local/lib/python3.10/dist-packages (from bert-extractive-summarizer) (4.35.2)\n",
            "Requirement already satisfied: scikit-learn in /usr/local/lib/python3.10/dist-packages (from bert-extractive-summarizer) (1.2.2)\n",
            "Requirement already satisfied: spacy in /usr/local/lib/python3.10/dist-packages (from bert-extractive-summarizer) (3.7.2)\n",
            "Requirement already satisfied: numpy>=1.17.3 in /usr/local/lib/python3.10/dist-packages (from scikit-learn->bert-extractive-summarizer) (1.25.2)\n",
            "Requirement already satisfied: scipy>=1.3.2 in /usr/local/lib/python3.10/dist-packages (from scikit-learn->bert-extractive-summarizer) (1.11.4)\n",
            "Requirement already satisfied: joblib>=1.1.1 in /usr/local/lib/python3.10/dist-packages (from scikit-learn->bert-extractive-summarizer) (1.3.2)\n",
            "Requirement already satisfied: threadpoolctl>=2.0.0 in /usr/local/lib/python3.10/dist-packages (from scikit-learn->bert-extractive-summarizer) (3.2.0)\n",
            "Requirement already satisfied: spacy-legacy<3.1.0,>=3.0.11 in /usr/local/lib/python3.10/dist-packages (from spacy->bert-extractive-summarizer) (3.0.12)\n",
            "Requirement already satisfied: spacy-loggers<2.0.0,>=1.0.0 in /usr/local/lib/python3.10/dist-packages (from spacy->bert-extractive-summarizer) (1.0.5)\n",
            "Requirement already satisfied: murmurhash<1.1.0,>=0.28.0 in /usr/local/lib/python3.10/dist-packages (from spacy->bert-extractive-summarizer) (1.0.10)\n",
            "Requirement already satisfied: cymem<2.1.0,>=2.0.2 in /usr/local/lib/python3.10/dist-packages (from spacy->bert-extractive-summarizer) (2.0.8)\n",
            "Requirement already satisfied: preshed<3.1.0,>=3.0.2 in /usr/local/lib/python3.10/dist-packages (from spacy->bert-extractive-summarizer) (3.0.9)\n",
            "Requirement already satisfied: thinc<8.3.0,>=8.1.8 in /usr/local/lib/python3.10/dist-packages (from spacy->bert-extractive-summarizer) (8.2.3)\n",
            "Requirement already satisfied: wasabi<1.2.0,>=0.9.1 in /usr/local/lib/python3.10/dist-packages (from spacy->bert-extractive-summarizer) (1.1.2)\n",
            "Requirement already satisfied: srsly<3.0.0,>=2.4.3 in /usr/local/lib/python3.10/dist-packages (from spacy->bert-extractive-summarizer) (2.4.8)\n",
            "Requirement already satisfied: catalogue<2.1.0,>=2.0.6 in /usr/local/lib/python3.10/dist-packages (from spacy->bert-extractive-summarizer) (2.0.10)\n",
            "Requirement already satisfied: weasel<0.4.0,>=0.1.0 in /usr/local/lib/python3.10/dist-packages (from spacy->bert-extractive-summarizer) (0.3.4)\n",
            "Requirement already satisfied: typer<0.10.0,>=0.3.0 in /usr/local/lib/python3.10/dist-packages (from spacy->bert-extractive-summarizer) (0.9.0)\n",
            "Requirement already satisfied: smart-open<7.0.0,>=5.2.1 in /usr/local/lib/python3.10/dist-packages (from spacy->bert-extractive-summarizer) (6.4.0)\n",
            "Requirement already satisfied: tqdm<5.0.0,>=4.38.0 in /usr/local/lib/python3.10/dist-packages (from spacy->bert-extractive-summarizer) (4.66.1)\n",
            "Requirement already satisfied: requests<3.0.0,>=2.13.0 in /usr/local/lib/python3.10/dist-packages (from spacy->bert-extractive-summarizer) (2.31.0)\n",
            "Requirement already satisfied: pydantic!=1.8,!=1.8.1,<3.0.0,>=1.7.4 in /usr/local/lib/python3.10/dist-packages (from spacy->bert-extractive-summarizer) (2.6.1)\n",
            "Requirement already satisfied: jinja2 in /usr/local/lib/python3.10/dist-packages (from spacy->bert-extractive-summarizer) (3.1.3)\n",
            "Requirement already satisfied: setuptools in /usr/local/lib/python3.10/dist-packages (from spacy->bert-extractive-summarizer) (67.7.2)\n",
            "Requirement already satisfied: packaging>=20.0 in /usr/local/lib/python3.10/dist-packages (from spacy->bert-extractive-summarizer) (23.2)\n",
            "Requirement already satisfied: langcodes<4.0.0,>=3.2.0 in /usr/local/lib/python3.10/dist-packages (from spacy->bert-extractive-summarizer) (3.3.0)\n",
            "Requirement already satisfied: filelock in /usr/local/lib/python3.10/dist-packages (from transformers->bert-extractive-summarizer) (3.13.1)\n",
            "Requirement already satisfied: huggingface-hub<1.0,>=0.16.4 in /usr/local/lib/python3.10/dist-packages (from transformers->bert-extractive-summarizer) (0.20.3)\n",
            "Requirement already satisfied: pyyaml>=5.1 in /usr/local/lib/python3.10/dist-packages (from transformers->bert-extractive-summarizer) (6.0.1)\n",
            "Requirement already satisfied: regex!=2019.12.17 in /usr/local/lib/python3.10/dist-packages (from transformers->bert-extractive-summarizer) (2023.12.25)\n",
            "Requirement already satisfied: tokenizers<0.19,>=0.14 in /usr/local/lib/python3.10/dist-packages (from transformers->bert-extractive-summarizer) (0.15.1)\n",
            "Requirement already satisfied: safetensors>=0.3.1 in /usr/local/lib/python3.10/dist-packages (from transformers->bert-extractive-summarizer) (0.4.2)\n",
            "Requirement already satisfied: fsspec>=2023.5.0 in /usr/local/lib/python3.10/dist-packages (from huggingface-hub<1.0,>=0.16.4->transformers->bert-extractive-summarizer) (2023.6.0)\n",
            "Requirement already satisfied: typing-extensions>=3.7.4.3 in /usr/local/lib/python3.10/dist-packages (from huggingface-hub<1.0,>=0.16.4->transformers->bert-extractive-summarizer) (4.9.0)\n",
            "Requirement already satisfied: annotated-types>=0.4.0 in /usr/local/lib/python3.10/dist-packages (from pydantic!=1.8,!=1.8.1,<3.0.0,>=1.7.4->spacy->bert-extractive-summarizer) (0.6.0)\n",
            "Requirement already satisfied: pydantic-core==2.16.2 in /usr/local/lib/python3.10/dist-packages (from pydantic!=1.8,!=1.8.1,<3.0.0,>=1.7.4->spacy->bert-extractive-summarizer) (2.16.2)\n",
            "Requirement already satisfied: charset-normalizer<4,>=2 in /usr/local/lib/python3.10/dist-packages (from requests<3.0.0,>=2.13.0->spacy->bert-extractive-summarizer) (3.3.2)\n",
            "Requirement already satisfied: idna<4,>=2.5 in /usr/local/lib/python3.10/dist-packages (from requests<3.0.0,>=2.13.0->spacy->bert-extractive-summarizer) (3.6)\n",
            "Requirement already satisfied: urllib3<3,>=1.21.1 in /usr/local/lib/python3.10/dist-packages (from requests<3.0.0,>=2.13.0->spacy->bert-extractive-summarizer) (2.0.7)\n",
            "Requirement already satisfied: certifi>=2017.4.17 in /usr/local/lib/python3.10/dist-packages (from requests<3.0.0,>=2.13.0->spacy->bert-extractive-summarizer) (2024.2.2)\n",
            "Requirement already satisfied: blis<0.8.0,>=0.7.8 in /usr/local/lib/python3.10/dist-packages (from thinc<8.3.0,>=8.1.8->spacy->bert-extractive-summarizer) (0.7.11)\n",
            "Requirement already satisfied: confection<1.0.0,>=0.0.1 in /usr/local/lib/python3.10/dist-packages (from thinc<8.3.0,>=8.1.8->spacy->bert-extractive-summarizer) (0.1.4)\n",
            "Requirement already satisfied: click<9.0.0,>=7.1.1 in /usr/local/lib/python3.10/dist-packages (from typer<0.10.0,>=0.3.0->spacy->bert-extractive-summarizer) (8.1.7)\n",
            "Requirement already satisfied: cloudpathlib<0.17.0,>=0.7.0 in /usr/local/lib/python3.10/dist-packages (from weasel<0.4.0,>=0.1.0->spacy->bert-extractive-summarizer) (0.16.0)\n",
            "Requirement already satisfied: MarkupSafe>=2.0 in /usr/local/lib/python3.10/dist-packages (from jinja2->spacy->bert-extractive-summarizer) (2.1.5)\n",
            "Installing collected packages: bert-extractive-summarizer\n",
            "Successfully installed bert-extractive-summarizer-0.10.1\n",
            "Requirement already satisfied: transformers in /usr/local/lib/python3.10/dist-packages (4.35.2)\n",
            "Requirement already satisfied: filelock in /usr/local/lib/python3.10/dist-packages (from transformers) (3.13.1)\n",
            "Requirement already satisfied: huggingface-hub<1.0,>=0.16.4 in /usr/local/lib/python3.10/dist-packages (from transformers) (0.20.3)\n",
            "Requirement already satisfied: numpy>=1.17 in /usr/local/lib/python3.10/dist-packages (from transformers) (1.25.2)\n",
            "Requirement already satisfied: packaging>=20.0 in /usr/local/lib/python3.10/dist-packages (from transformers) (23.2)\n",
            "Requirement already satisfied: pyyaml>=5.1 in /usr/local/lib/python3.10/dist-packages (from transformers) (6.0.1)\n",
            "Requirement already satisfied: regex!=2019.12.17 in /usr/local/lib/python3.10/dist-packages (from transformers) (2023.12.25)\n",
            "Requirement already satisfied: requests in /usr/local/lib/python3.10/dist-packages (from transformers) (2.31.0)\n",
            "Requirement already satisfied: tokenizers<0.19,>=0.14 in /usr/local/lib/python3.10/dist-packages (from transformers) (0.15.1)\n",
            "Requirement already satisfied: safetensors>=0.3.1 in /usr/local/lib/python3.10/dist-packages (from transformers) (0.4.2)\n",
            "Requirement already satisfied: tqdm>=4.27 in /usr/local/lib/python3.10/dist-packages (from transformers) (4.66.1)\n",
            "Requirement already satisfied: fsspec>=2023.5.0 in /usr/local/lib/python3.10/dist-packages (from huggingface-hub<1.0,>=0.16.4->transformers) (2023.6.0)\n",
            "Requirement already satisfied: typing-extensions>=3.7.4.3 in /usr/local/lib/python3.10/dist-packages (from huggingface-hub<1.0,>=0.16.4->transformers) (4.9.0)\n",
            "Requirement already satisfied: charset-normalizer<4,>=2 in /usr/local/lib/python3.10/dist-packages (from requests->transformers) (3.3.2)\n",
            "Requirement already satisfied: idna<4,>=2.5 in /usr/local/lib/python3.10/dist-packages (from requests->transformers) (3.6)\n",
            "Requirement already satisfied: urllib3<3,>=1.21.1 in /usr/local/lib/python3.10/dist-packages (from requests->transformers) (2.0.7)\n",
            "Requirement already satisfied: certifi>=2017.4.17 in /usr/local/lib/python3.10/dist-packages (from requests->transformers) (2024.2.2)\n"
          ]
        }
      ]
    },
    {
      "cell_type": "code",
      "source": [
        "import numpy as np\n",
        "import nltk\n",
        "import pandas as pd\n",
        "import re\n",
        "from nltk.corpus import stopwords\n",
        "from nltk.stem.porter import PorterStemmer\n",
        "from nltk.stem import WordNetLemmatizer\n",
        "from google.colab import drive\n",
        "drive.mount('/content/drive')"
      ],
      "metadata": {
        "colab": {
          "base_uri": "https://localhost:8080/"
        },
        "id": "IXFVDHe2EazM",
        "outputId": "49362926-bacc-4404-aed2-0cac6c7f8d02"
      },
      "execution_count": null,
      "outputs": [
        {
          "output_type": "stream",
          "name": "stdout",
          "text": [
            "Mounted at /content/drive\n"
          ]
        }
      ]
    },
    {
      "cell_type": "code",
      "source": [
        "df = pd.read_json('/content/drive/My Drive/news.json')"
      ],
      "metadata": {
        "id": "DwkF0j-yLtIv"
      },
      "execution_count": null,
      "outputs": []
    },
    {
      "cell_type": "markdown",
      "source": [],
      "metadata": {
        "id": "KDoSfndtHN_W"
      }
    },
    {
      "cell_type": "code",
      "source": [
        "df.head()"
      ],
      "metadata": {
        "colab": {
          "base_uri": "https://localhost:8080/",
          "height": 293
        },
        "id": "fVrx_opzKna7",
        "outputId": "1a5dcdb2-d3e8-4b90-fc28-3fa34d3d34f6"
      },
      "execution_count": null,
      "outputs": [
        {
          "output_type": "execute_result",
          "data": {
            "text/plain": [
              "                                             article             author  \\\n",
              "0  Indian Railway Finance Corporation (IRFC) and ...  Moneycontrol News   \n",
              "1  When the markets are on a roll, a common dilem...         Dev Ashish   \n",
              "2  The share price of&nbsp;Hindalco Industries Lt...  Moneycontrol News   \n",
              "3  Some technical glitch has led Multi Commodity ...  Moneycontrol News   \n",
              "4  Hindustan Aeronautics (HAL)&nbsp;shares gained...  Moneycontrol News   \n",
              "\n",
              "  language                                              title  \\\n",
              "0       en    IRFC, PFC line up bonds to raise Rs 3,500 crore   \n",
              "1       en  Should I invest directly in stocks or take the...   \n",
              "2       en  Hindalco declines 10% as Novelis downgrades Ba...   \n",
              "3       en  MCX faces technical glitch, defers opening to ...   \n",
              "4       en  HAL gains on robust Q3 results, CLSA sees 13% ...   \n",
              "\n",
              "                                            keywords  \\\n",
              "0  IRFC, PFC, bonds, Indian bond, interest rates,...   \n",
              "1  investing in direct mutual funds, investing in...   \n",
              "2  markets news, buzzing stocks, equity markets, ...   \n",
              "3    markets news, equity markets, commodity markets   \n",
              "4  Hindustan Aeronautics, HAL Q3 results, CLSA, s...   \n",
              "\n",
              "                                           thumbnail  \\\n",
              "0  https://images.moneycontrol.com/static-mcnews/...   \n",
              "1  https://images.moneycontrol.com/static-mcnews/...   \n",
              "2  https://images.moneycontrol.com/static-mcnews/...   \n",
              "3  https://images.moneycontrol.com/static-mcnews/...   \n",
              "4  https://images.moneycontrol.com/static-mcnews/...   \n",
              "\n",
              "                       date  \\\n",
              "0 2024-02-13 11:13:08+05:30   \n",
              "1 2024-02-13 09:55:03+05:30   \n",
              "2 2024-02-13 09:53:45+05:30   \n",
              "3 2024-02-13 09:58:20+05:30   \n",
              "4 2024-02-13 09:53:12+05:30   \n",
              "\n",
              "                                                 url   section  \n",
              "0  https://www.moneycontrol.com/news/business/irf...  business  \n",
              "1  https://www.moneycontrol.com/news/business/per...  business  \n",
              "2  https://www.moneycontrol.com/news/business/ear...  business  \n",
              "3  https://www.moneycontrol.com/news/business/mar...  business  \n",
              "4  https://www.moneycontrol.com/news/business/mar...  business  "
            ],
            "text/html": [
              "\n",
              "  <div id=\"df-6aeb48d1-8b75-473b-a2f6-6cc991256739\" class=\"colab-df-container\">\n",
              "    <div>\n",
              "<style scoped>\n",
              "    .dataframe tbody tr th:only-of-type {\n",
              "        vertical-align: middle;\n",
              "    }\n",
              "\n",
              "    .dataframe tbody tr th {\n",
              "        vertical-align: top;\n",
              "    }\n",
              "\n",
              "    .dataframe thead th {\n",
              "        text-align: right;\n",
              "    }\n",
              "</style>\n",
              "<table border=\"1\" class=\"dataframe\">\n",
              "  <thead>\n",
              "    <tr style=\"text-align: right;\">\n",
              "      <th></th>\n",
              "      <th>article</th>\n",
              "      <th>author</th>\n",
              "      <th>language</th>\n",
              "      <th>title</th>\n",
              "      <th>keywords</th>\n",
              "      <th>thumbnail</th>\n",
              "      <th>date</th>\n",
              "      <th>url</th>\n",
              "      <th>section</th>\n",
              "    </tr>\n",
              "  </thead>\n",
              "  <tbody>\n",
              "    <tr>\n",
              "      <th>0</th>\n",
              "      <td>Indian Railway Finance Corporation (IRFC) and ...</td>\n",
              "      <td>Moneycontrol News</td>\n",
              "      <td>en</td>\n",
              "      <td>IRFC, PFC line up bonds to raise Rs 3,500 crore</td>\n",
              "      <td>IRFC, PFC, bonds, Indian bond, interest rates,...</td>\n",
              "      <td>https://images.moneycontrol.com/static-mcnews/...</td>\n",
              "      <td>2024-02-13 11:13:08+05:30</td>\n",
              "      <td>https://www.moneycontrol.com/news/business/irf...</td>\n",
              "      <td>business</td>\n",
              "    </tr>\n",
              "    <tr>\n",
              "      <th>1</th>\n",
              "      <td>When the markets are on a roll, a common dilem...</td>\n",
              "      <td>Dev Ashish</td>\n",
              "      <td>en</td>\n",
              "      <td>Should I invest directly in stocks or take the...</td>\n",
              "      <td>investing in direct mutual funds, investing in...</td>\n",
              "      <td>https://images.moneycontrol.com/static-mcnews/...</td>\n",
              "      <td>2024-02-13 09:55:03+05:30</td>\n",
              "      <td>https://www.moneycontrol.com/news/business/per...</td>\n",
              "      <td>business</td>\n",
              "    </tr>\n",
              "    <tr>\n",
              "      <th>2</th>\n",
              "      <td>The share price of&amp;nbsp;Hindalco Industries Lt...</td>\n",
              "      <td>Moneycontrol News</td>\n",
              "      <td>en</td>\n",
              "      <td>Hindalco declines 10% as Novelis downgrades Ba...</td>\n",
              "      <td>markets news, buzzing stocks, equity markets, ...</td>\n",
              "      <td>https://images.moneycontrol.com/static-mcnews/...</td>\n",
              "      <td>2024-02-13 09:53:45+05:30</td>\n",
              "      <td>https://www.moneycontrol.com/news/business/ear...</td>\n",
              "      <td>business</td>\n",
              "    </tr>\n",
              "    <tr>\n",
              "      <th>3</th>\n",
              "      <td>Some technical glitch has led Multi Commodity ...</td>\n",
              "      <td>Moneycontrol News</td>\n",
              "      <td>en</td>\n",
              "      <td>MCX faces technical glitch, defers opening to ...</td>\n",
              "      <td>markets news, equity markets, commodity markets</td>\n",
              "      <td>https://images.moneycontrol.com/static-mcnews/...</td>\n",
              "      <td>2024-02-13 09:58:20+05:30</td>\n",
              "      <td>https://www.moneycontrol.com/news/business/mar...</td>\n",
              "      <td>business</td>\n",
              "    </tr>\n",
              "    <tr>\n",
              "      <th>4</th>\n",
              "      <td>Hindustan Aeronautics (HAL)&amp;nbsp;shares gained...</td>\n",
              "      <td>Moneycontrol News</td>\n",
              "      <td>en</td>\n",
              "      <td>HAL gains on robust Q3 results, CLSA sees 13% ...</td>\n",
              "      <td>Hindustan Aeronautics, HAL Q3 results, CLSA, s...</td>\n",
              "      <td>https://images.moneycontrol.com/static-mcnews/...</td>\n",
              "      <td>2024-02-13 09:53:12+05:30</td>\n",
              "      <td>https://www.moneycontrol.com/news/business/mar...</td>\n",
              "      <td>business</td>\n",
              "    </tr>\n",
              "  </tbody>\n",
              "</table>\n",
              "</div>\n",
              "    <div class=\"colab-df-buttons\">\n",
              "\n",
              "  <div class=\"colab-df-container\">\n",
              "    <button class=\"colab-df-convert\" onclick=\"convertToInteractive('df-6aeb48d1-8b75-473b-a2f6-6cc991256739')\"\n",
              "            title=\"Convert this dataframe to an interactive table.\"\n",
              "            style=\"display:none;\">\n",
              "\n",
              "  <svg xmlns=\"http://www.w3.org/2000/svg\" height=\"24px\" viewBox=\"0 -960 960 960\">\n",
              "    <path d=\"M120-120v-720h720v720H120Zm60-500h600v-160H180v160Zm220 220h160v-160H400v160Zm0 220h160v-160H400v160ZM180-400h160v-160H180v160Zm440 0h160v-160H620v160ZM180-180h160v-160H180v160Zm440 0h160v-160H620v160Z\"/>\n",
              "  </svg>\n",
              "    </button>\n",
              "\n",
              "  <style>\n",
              "    .colab-df-container {\n",
              "      display:flex;\n",
              "      gap: 12px;\n",
              "    }\n",
              "\n",
              "    .colab-df-convert {\n",
              "      background-color: #E8F0FE;\n",
              "      border: none;\n",
              "      border-radius: 50%;\n",
              "      cursor: pointer;\n",
              "      display: none;\n",
              "      fill: #1967D2;\n",
              "      height: 32px;\n",
              "      padding: 0 0 0 0;\n",
              "      width: 32px;\n",
              "    }\n",
              "\n",
              "    .colab-df-convert:hover {\n",
              "      background-color: #E2EBFA;\n",
              "      box-shadow: 0px 1px 2px rgba(60, 64, 67, 0.3), 0px 1px 3px 1px rgba(60, 64, 67, 0.15);\n",
              "      fill: #174EA6;\n",
              "    }\n",
              "\n",
              "    .colab-df-buttons div {\n",
              "      margin-bottom: 4px;\n",
              "    }\n",
              "\n",
              "    [theme=dark] .colab-df-convert {\n",
              "      background-color: #3B4455;\n",
              "      fill: #D2E3FC;\n",
              "    }\n",
              "\n",
              "    [theme=dark] .colab-df-convert:hover {\n",
              "      background-color: #434B5C;\n",
              "      box-shadow: 0px 1px 3px 1px rgba(0, 0, 0, 0.15);\n",
              "      filter: drop-shadow(0px 1px 2px rgba(0, 0, 0, 0.3));\n",
              "      fill: #FFFFFF;\n",
              "    }\n",
              "  </style>\n",
              "\n",
              "    <script>\n",
              "      const buttonEl =\n",
              "        document.querySelector('#df-6aeb48d1-8b75-473b-a2f6-6cc991256739 button.colab-df-convert');\n",
              "      buttonEl.style.display =\n",
              "        google.colab.kernel.accessAllowed ? 'block' : 'none';\n",
              "\n",
              "      async function convertToInteractive(key) {\n",
              "        const element = document.querySelector('#df-6aeb48d1-8b75-473b-a2f6-6cc991256739');\n",
              "        const dataTable =\n",
              "          await google.colab.kernel.invokeFunction('convertToInteractive',\n",
              "                                                    [key], {});\n",
              "        if (!dataTable) return;\n",
              "\n",
              "        const docLinkHtml = 'Like what you see? Visit the ' +\n",
              "          '<a target=\"_blank\" href=https://colab.research.google.com/notebooks/data_table.ipynb>data table notebook</a>'\n",
              "          + ' to learn more about interactive tables.';\n",
              "        element.innerHTML = '';\n",
              "        dataTable['output_type'] = 'display_data';\n",
              "        await google.colab.output.renderOutput(dataTable, element);\n",
              "        const docLink = document.createElement('div');\n",
              "        docLink.innerHTML = docLinkHtml;\n",
              "        element.appendChild(docLink);\n",
              "      }\n",
              "    </script>\n",
              "  </div>\n",
              "\n",
              "\n",
              "<div id=\"df-12fefbe9-cef0-4d7f-8b96-9249e066f83a\">\n",
              "  <button class=\"colab-df-quickchart\" onclick=\"quickchart('df-12fefbe9-cef0-4d7f-8b96-9249e066f83a')\"\n",
              "            title=\"Suggest charts\"\n",
              "            style=\"display:none;\">\n",
              "\n",
              "<svg xmlns=\"http://www.w3.org/2000/svg\" height=\"24px\"viewBox=\"0 0 24 24\"\n",
              "     width=\"24px\">\n",
              "    <g>\n",
              "        <path d=\"M19 3H5c-1.1 0-2 .9-2 2v14c0 1.1.9 2 2 2h14c1.1 0 2-.9 2-2V5c0-1.1-.9-2-2-2zM9 17H7v-7h2v7zm4 0h-2V7h2v10zm4 0h-2v-4h2v4z\"/>\n",
              "    </g>\n",
              "</svg>\n",
              "  </button>\n",
              "\n",
              "<style>\n",
              "  .colab-df-quickchart {\n",
              "      --bg-color: #E8F0FE;\n",
              "      --fill-color: #1967D2;\n",
              "      --hover-bg-color: #E2EBFA;\n",
              "      --hover-fill-color: #174EA6;\n",
              "      --disabled-fill-color: #AAA;\n",
              "      --disabled-bg-color: #DDD;\n",
              "  }\n",
              "\n",
              "  [theme=dark] .colab-df-quickchart {\n",
              "      --bg-color: #3B4455;\n",
              "      --fill-color: #D2E3FC;\n",
              "      --hover-bg-color: #434B5C;\n",
              "      --hover-fill-color: #FFFFFF;\n",
              "      --disabled-bg-color: #3B4455;\n",
              "      --disabled-fill-color: #666;\n",
              "  }\n",
              "\n",
              "  .colab-df-quickchart {\n",
              "    background-color: var(--bg-color);\n",
              "    border: none;\n",
              "    border-radius: 50%;\n",
              "    cursor: pointer;\n",
              "    display: none;\n",
              "    fill: var(--fill-color);\n",
              "    height: 32px;\n",
              "    padding: 0;\n",
              "    width: 32px;\n",
              "  }\n",
              "\n",
              "  .colab-df-quickchart:hover {\n",
              "    background-color: var(--hover-bg-color);\n",
              "    box-shadow: 0 1px 2px rgba(60, 64, 67, 0.3), 0 1px 3px 1px rgba(60, 64, 67, 0.15);\n",
              "    fill: var(--button-hover-fill-color);\n",
              "  }\n",
              "\n",
              "  .colab-df-quickchart-complete:disabled,\n",
              "  .colab-df-quickchart-complete:disabled:hover {\n",
              "    background-color: var(--disabled-bg-color);\n",
              "    fill: var(--disabled-fill-color);\n",
              "    box-shadow: none;\n",
              "  }\n",
              "\n",
              "  .colab-df-spinner {\n",
              "    border: 2px solid var(--fill-color);\n",
              "    border-color: transparent;\n",
              "    border-bottom-color: var(--fill-color);\n",
              "    animation:\n",
              "      spin 1s steps(1) infinite;\n",
              "  }\n",
              "\n",
              "  @keyframes spin {\n",
              "    0% {\n",
              "      border-color: transparent;\n",
              "      border-bottom-color: var(--fill-color);\n",
              "      border-left-color: var(--fill-color);\n",
              "    }\n",
              "    20% {\n",
              "      border-color: transparent;\n",
              "      border-left-color: var(--fill-color);\n",
              "      border-top-color: var(--fill-color);\n",
              "    }\n",
              "    30% {\n",
              "      border-color: transparent;\n",
              "      border-left-color: var(--fill-color);\n",
              "      border-top-color: var(--fill-color);\n",
              "      border-right-color: var(--fill-color);\n",
              "    }\n",
              "    40% {\n",
              "      border-color: transparent;\n",
              "      border-right-color: var(--fill-color);\n",
              "      border-top-color: var(--fill-color);\n",
              "    }\n",
              "    60% {\n",
              "      border-color: transparent;\n",
              "      border-right-color: var(--fill-color);\n",
              "    }\n",
              "    80% {\n",
              "      border-color: transparent;\n",
              "      border-right-color: var(--fill-color);\n",
              "      border-bottom-color: var(--fill-color);\n",
              "    }\n",
              "    90% {\n",
              "      border-color: transparent;\n",
              "      border-bottom-color: var(--fill-color);\n",
              "    }\n",
              "  }\n",
              "</style>\n",
              "\n",
              "  <script>\n",
              "    async function quickchart(key) {\n",
              "      const quickchartButtonEl =\n",
              "        document.querySelector('#' + key + ' button');\n",
              "      quickchartButtonEl.disabled = true;  // To prevent multiple clicks.\n",
              "      quickchartButtonEl.classList.add('colab-df-spinner');\n",
              "      try {\n",
              "        const charts = await google.colab.kernel.invokeFunction(\n",
              "            'suggestCharts', [key], {});\n",
              "      } catch (error) {\n",
              "        console.error('Error during call to suggestCharts:', error);\n",
              "      }\n",
              "      quickchartButtonEl.classList.remove('colab-df-spinner');\n",
              "      quickchartButtonEl.classList.add('colab-df-quickchart-complete');\n",
              "    }\n",
              "    (() => {\n",
              "      let quickchartButtonEl =\n",
              "        document.querySelector('#df-12fefbe9-cef0-4d7f-8b96-9249e066f83a button');\n",
              "      quickchartButtonEl.style.display =\n",
              "        google.colab.kernel.accessAllowed ? 'block' : 'none';\n",
              "    })();\n",
              "  </script>\n",
              "</div>\n",
              "\n",
              "    </div>\n",
              "  </div>\n"
            ],
            "application/vnd.google.colaboratory.intrinsic+json": {
              "type": "dataframe",
              "variable_name": "df",
              "summary": "{\n  \"name\": \"df\",\n  \"rows\": 670,\n  \"fields\": [\n    {\n      \"column\": \"article\",\n      \"properties\": {\n        \"dtype\": \"string\",\n        \"num_unique_values\": 625,\n        \"samples\": [\n          \"The National Basketball Association (NBA)&nbsp;and the Women&rsquo;s National Basketball Association (WNBA) on February 12 announced a multiyear extension of its partnership with fantasy sports major Dream11 to bolster the sport's presence in India.\\r\\n\\r\\nThis partnership will see Dream11 continue as the official fantasy gaming partner of the NBA and WNBA in the country. NBA had first partnered with Dream11 for the 2017-18 basketball season and launched the league's first official fantasy game in India.\\r\\n\\r\\nThrough this tie-up, Indian consumers will be able to compete in a range of public and private NBA and WNBA-themed fantasy contests on Dream11 daily. They will get to build a virtual team of NBA or WNBA players and accumulate points based on the players&rsquo; real-life on-court performances. Users will be able to compete in both free and paid contests on the platform.\\r\\n\\r\\n&ldquo;With India being one of the fastest growing markets in the world for fantasy gaming, bolstering our presence in this space has been a key focus for us over the last few years,&rdquo; said NBA India Country Head Rajah Chaudhry.\\r\\n\\r\\n&ldquo;We have seen a significant increase in fan engagement since the launch of our official fantasy game on Dream11, and as we embark on this continued journey together, we look forward to pushing the boundaries of innovation in fantasy gaming and providing fans with even more exciting ways to connect with the NBA and WNBA,&rdquo; he said.\\r\\n\\r\\nRead:&nbsp;Fantasy Sports has led a drastic shift in sports engagement &amp;amp;amp; viewership: Dream Sports CEO Harsh Jain\\r\\n\\r\\nVikrant Mudaliar, Chief Marketing Officer, Dream11 said, &amp;quot;As we extend our collaboration with the NBA and WNBA, we&rsquo;re committed to taking the excitement of basketball to new heights for our users. This association underscores our dedication to the sport while also highlighting the limitless possibilities in the realm of fantasy gaming.&amp;quot;\\r\\n\\r\\nDream11 currently claims to have over 200 million users playing fantasy contests across various sports including cricket, football, kabaddi, basketball, hockey, and volleyball among others.\\r\\n\\r\\nDream Sports, the parent firm of fantasy sport major Dream11, saw its revenue from operations jump 66 percent to Rs 6,384.49 crore for the financial year 2023, from Rs 3,841 crore in FY22. Profit after tax grew by 32.4 percent to Rs 188 crore in FY23 from Rs 142 crore in FY22.\\r\\n\\r\\nThat said, concerns about the impact of an over Rs 28,000 crore show cause notice issued for alleged goods and services tax (GST) evasion and non-payment of 28 percent GST on the face value of bets has prompted the company's auditor to flag &amp;quot;a material uncertainty which may cast significant doubt on group's ability to continue as a going concern&amp;quot;.\\r\\n\\r\\nThe Indian government also imposed a 28 percent&nbsp;GST regime on the country's real-money gaming sector, which became effective on October 1, 2023. The new tax rates are expected to hit the revenues and profitability of many companies in the sector.\",\n          \"To prevent instances of runway incursions at airports, aviation watchdog DGCA has asked stakeholders to put in place a runway safety team at all airports and adopt technologies to improve situational awareness, among other measures. The Directorate General of Civil Aviation (DGCA) has issued a circular in view of the collision of planes due to runway incursion at the Haneda airport in Japan last month.\\r\\n\\r\\nApart from establishing a runway safety team at all aerodromes and ensuring their effective functioning, the regulator has emphasised on comprehensive training for pilots, air traffic controllers, aircraft maintenance engineers, and drivers operating inside an airport. Air Traffic Controllers (ATCs) should ensure that stop bars are switched on to signal a stop and switched off to indicate traffic may proceed. In no case, aircraft or vehicles be instructed to cross illuminated red stop bars, DGCA said in a release on Monday.\\r\\n\\r\\nFurther, the watchdog said that aerodromes, ATCs and airlines should implement contingency measures to cater to unserviceable stop bars. Another recommendation is adoption of technological interventions to improve situational awareness, thereby assisting Air Traffic Control (ATC) and other stakeholders to identify the traffic within the manoeuvering area.\\r\\n\\r\\nOther recommendations include ensuring adherence to standard procedures by all involved personnel/stakeholders, and recognising the influence of human factors on performance, which may contribute to runway incursions. The rate of runway incursions are decreasing and by ensuring a proactive approach among all stakeholders, the risk of such incidents can be reduced further, according to DGCA.\\r\\n\\r\\nIn a fatal incident on January 2, a large passenger plane and a Japanese coast guard aircraft collided on the runway at the Haneda airport and burst into flames. Five people onboard the plane of the coast guard were killed. The incident happened due to runway incursion by Japanese coast guard's DHC-8 aircraft when Japan Airlines aircraft was in the process of landing.\\r\\n\\r\\nFollowing the incident, DGCA undertook a review of its existing requirements and safety measures in place for runway safety and prevention of runway incursions. In August last year, a mishap was averted at the Delhi airport involving two Vistara planes as the air traffic controller inadvertently gave clearance for crossing and take off of two different aircraft on the same runway at the same time before cancelling the take off.\",\n          \"SpiceJet shares fell 4 percent on February 12 following reports that the low-cost airline would cut down the workforce by 10-15 percent to reduce fixed costs. The job-cuts will help the airline save around Rs 100 crore, CNBC TV18 reported, citing unidentified sources.\\r\\n\\r\\nSpiceJet has lined up more cost-saving measures to stay afloat in the coming months.\\r\\n\\r\\nThe Economic Times&nbsp;reported that approximately 1,400 SpiceJet employees are to be laid off. These layoffs are essential for aligning companywide costs with operational requirements, according to the report. The cash-strapped airline currently has 9,000-9,500 employees and bears a salary bill of Rs 60 crore.\\r\\n\\r\\nSpiceJet shares were trading 3.93 percent down at Rs 65.5 at 11.51 am on the National Stock Exchange. The shares have gained 94 percent in the last six months and 86 percent in the last one year.\\r\\n\\r\\nThe airline currently operates 30 aircraft, 10 of which are wet-leased. The picture is very different as compared to 2019 where SpiceJet had a fleet of 118 planes and 16,000 employees.\\r\\n\\r\\nThe airline has been directed by the Delhi High Court to settle the outstanding dues amounting to $4 million it owed two engine lessors, by February 15. Failure to comply with the court's directive could result in adverse legal action, with the lessors expressing their intention to pursue litigation against the airline.\\r\\n\\r\\nDisclaimer: The views and investment tips expressed by experts on Moneycontrol.com are their own and not those of the website or its management. Moneycontrol.com advises users to check with certified experts before taking any investment decisions.\\r\\n\\r\\n&amp;amp;nbsp;\"\n        ],\n        \"semantic_type\": \"\",\n        \"description\": \"\"\n      }\n    },\n    {\n      \"column\": \"author\",\n      \"properties\": {\n        \"dtype\": \"category\",\n        \"num_unique_values\": 100,\n        \"samples\": [\n          \"R. Sree Ram\",\n          \"Maryam Farooqui\",\n          \"Avishek Banerjee\"\n        ],\n        \"semantic_type\": \"\",\n        \"description\": \"\"\n      }\n    },\n    {\n      \"column\": \"language\",\n      \"properties\": {\n        \"dtype\": \"category\",\n        \"num_unique_values\": 1,\n        \"samples\": [\n          \"en\"\n        ],\n        \"semantic_type\": \"\",\n        \"description\": \"\"\n      }\n    },\n    {\n      \"column\": \"title\",\n      \"properties\": {\n        \"dtype\": \"string\",\n        \"num_unique_values\": 670,\n        \"samples\": [\n          \"Bharat Forge net profit surges over 220% YoY in Q3, stock down nearly 14%\"\n        ],\n        \"semantic_type\": \"\",\n        \"description\": \"\"\n      }\n    },\n    {\n      \"column\": \"keywords\",\n      \"properties\": {\n        \"dtype\": \"string\",\n        \"num_unique_values\": 657,\n        \"samples\": [\n          \"Bharat Forge, earnings, result analysis, moneycontrol research, auto ancillary\"\n        ],\n        \"semantic_type\": \"\",\n        \"description\": \"\"\n      }\n    },\n    {\n      \"column\": \"thumbnail\",\n      \"properties\": {\n        \"dtype\": \"string\",\n        \"num_unique_values\": 349,\n        \"samples\": [\n          \"https://images.moneycontrol.com/static-mcnews/2024/02/elvish-yadav-123209276-16x9_0-1.jpg?impolicy=website&width=1600&height=900\"\n        ],\n        \"semantic_type\": \"\",\n        \"description\": \"\"\n      }\n    },\n    {\n      \"column\": \"date\",\n      \"properties\": {\n        \"dtype\": \"date\",\n        \"min\": \"2024-01-24 11:21:45+05:30\",\n        \"max\": \"2024-02-13 11:13:08+05:30\",\n        \"num_unique_values\": 630,\n        \"samples\": [\n          \"2024-02-12 20:18:30+05:30\"\n        ],\n        \"semantic_type\": \"\",\n        \"description\": \"\"\n      }\n    },\n    {\n      \"column\": \"url\",\n      \"properties\": {\n        \"dtype\": \"string\",\n        \"num_unique_values\": 670,\n        \"samples\": [\n          \"https://www.moneycontrol.com/news/business/earnings/bharat-forge-net-profit-surges-220-yoy-in-q3-12249181.html\"\n        ],\n        \"semantic_type\": \"\",\n        \"description\": \"\"\n      }\n    },\n    {\n      \"column\": \"section\",\n      \"properties\": {\n        \"dtype\": \"category\",\n        \"num_unique_values\": 20,\n        \"samples\": [\n          \"business\"\n        ],\n        \"semantic_type\": \"\",\n        \"description\": \"\"\n      }\n    }\n  ]\n}"
            }
          },
          "metadata": {},
          "execution_count": 3
        }
      ]
    },
    {
      "cell_type": "code",
      "source": [
        "orginal = df['article'].value_counts()"
      ],
      "metadata": {
        "id": "HBzzglWqEA4o"
      },
      "execution_count": null,
      "outputs": []
    },
    {
      "cell_type": "code",
      "source": [
        "article = df['article'].iloc[3]"
      ],
      "metadata": {
        "id": "IK0FpMkTEol9"
      },
      "execution_count": null,
      "outputs": []
    },
    {
      "cell_type": "code",
      "source": [
        "url = df['url'].iloc[2]"
      ],
      "metadata": {
        "id": "3kuv0DkCy0tl"
      },
      "execution_count": null,
      "outputs": []
    },
    {
      "cell_type": "code",
      "source": [
        "url"
      ],
      "metadata": {
        "colab": {
          "base_uri": "https://localhost:8080/",
          "height": 35
        },
        "id": "a2LIlvnby55l",
        "outputId": "49804cfa-0d7c-4a37-95f8-fb130e4110b2"
      },
      "execution_count": null,
      "outputs": [
        {
          "output_type": "execute_result",
          "data": {
            "text/plain": [
              "'https://www.moneycontrol.com/news/business/earnings/hindalco-declines-10-as-novalis-downgrades-bay-minette-project-returns-to-double-digits-12254351.html'"
            ],
            "application/vnd.google.colaboratory.intrinsic+json": {
              "type": "string"
            }
          },
          "metadata": {},
          "execution_count": 7
        }
      ]
    },
    {
      "cell_type": "code",
      "source": [
        "article"
      ],
      "metadata": {
        "colab": {
          "base_uri": "https://localhost:8080/",
          "height": 105
        },
        "id": "TLj_01tVXSC8",
        "outputId": "c0f0a0d4-ba48-4963-8877-7175a621b422"
      },
      "execution_count": null,
      "outputs": [
        {
          "output_type": "execute_result",
          "data": {
            "text/plain": [
              "\"Some technical glitch has led Multi Commodity Exchange of India (MCX)&nbsp;to further delayed opening of the commodity markets to 1pm on February 13, instead of the 11am schedule earlier, CNBC reported, adding that a tech team was working to resolve the issue.\\r\\n\\r\\nThis was the second time when MCX has now revised its opening time. Earlier, Zerodha and Upstox reported in their twitter handle that the opening of MCX delayed to 10am from 9am because of the&nbsp;technical glitch. Then it further revised timing to 11am from 10am.\\r\\n\\r\\nMCX earlier issued a circular saying trading hours for the commodity derivatives segment for February 13, 2024 have been revised from 9am&nbsp;to 10am.\\r\\n\\r\\n&amp;quot;The Exchange is facing some technical issues in its commodity derivatives trading platform&nbsp;today, i.e. February 13, 2024, and the teams of the Exchange as well as the Technology VendorTCS, are working to resolve the issue&amp;quot;, MCX said in a notice to exchanges.\\r\\n\\r\\nZerodha said in its twitter handle, due to operational delays at the Multi Commodity Exchange (MCX), the commodity markets will open at 10am today.\\r\\n\\r\\nMeanwhile, markets traded marginally higher with the Sensex up 0.2 percent to 71,191 points.\\r\\n\\r\\nShrey Jain, Founder &amp;amp;amp; CEO, SAS Online on MCX said brokers are awaiting position, margin and trade files from MCX without which processing of previous trading session is pending. Once files are received we will do the Beginning of Day process and prepare the system for today's trading.\\r\\n\\r\\n&amp;amp;nbsp;\""
            ],
            "application/vnd.google.colaboratory.intrinsic+json": {
              "type": "string"
            }
          },
          "metadata": {},
          "execution_count": 8
        }
      ]
    },
    {
      "cell_type": "code",
      "source": [
        "# Remove variations of non-breaking space entities and keep numbers\n",
        "cleaned_text = re.sub(r'&[a-zA-Z-0-9]+;', ' ', article)\n",
        "\n",
        "# Remove extra whitespaces\n",
        "cleaned_text = re.sub(r'\\s+', ' ', cleaned_text)\n",
        "\n",
        "print(cleaned_text)"
      ],
      "metadata": {
        "colab": {
          "base_uri": "https://localhost:8080/"
        },
        "id": "OlCie_dsr4SI",
        "outputId": "e188dde6-8669-4eca-a880-d2750a5567cc"
      },
      "execution_count": null,
      "outputs": [
        {
          "output_type": "stream",
          "name": "stdout",
          "text": [
            "Some technical glitch has led Multi Commodity Exchange of India (MCX) to further delayed opening of the commodity markets to 1pm on February 13, instead of the 11am schedule earlier, CNBC reported, adding that a tech team was working to resolve the issue. This was the second time when MCX has now revised its opening time. Earlier, Zerodha and Upstox reported in their twitter handle that the opening of MCX delayed to 10am from 9am because of the technical glitch. Then it further revised timing to 11am from 10am. MCX earlier issued a circular saying trading hours for the commodity derivatives segment for February 13, 2024 have been revised from 9am to 10am. quot;The Exchange is facing some technical issues in its commodity derivatives trading platform today, i.e. February 13, 2024, and the teams of the Exchange as well as the Technology VendorTCS, are working to resolve the issue quot;, MCX said in a notice to exchanges. Zerodha said in its twitter handle, due to operational delays at the Multi Commodity Exchange (MCX), the commodity markets will open at 10am today. Meanwhile, markets traded marginally higher with the Sensex up 0.2 percent to 71,191 points. Shrey Jain, Founder amp;amp; CEO, SAS Online on MCX said brokers are awaiting position, margin and trade files from MCX without which processing of previous trading session is pending. Once files are received we will do the Beginning of Day process and prepare the system for today's trading. amp;nbsp;\n"
          ]
        }
      ]
    },
    {
      "cell_type": "code",
      "source": [
        "cleaned_text"
      ],
      "metadata": {
        "colab": {
          "base_uri": "https://localhost:8080/",
          "height": 105
        },
        "id": "UVB4uFpTsSWT",
        "outputId": "0d945ca4-f45e-4f7c-f8b8-b95c4fb921d7"
      },
      "execution_count": null,
      "outputs": [
        {
          "output_type": "execute_result",
          "data": {
            "text/plain": [
              "\"Some technical glitch has led Multi Commodity Exchange of India (MCX) to further delayed opening of the commodity markets to 1pm on February 13, instead of the 11am schedule earlier, CNBC reported, adding that a tech team was working to resolve the issue. This was the second time when MCX has now revised its opening time. Earlier, Zerodha and Upstox reported in their twitter handle that the opening of MCX delayed to 10am from 9am because of the technical glitch. Then it further revised timing to 11am from 10am. MCX earlier issued a circular saying trading hours for the commodity derivatives segment for February 13, 2024 have been revised from 9am to 10am. quot;The Exchange is facing some technical issues in its commodity derivatives trading platform today, i.e. February 13, 2024, and the teams of the Exchange as well as the Technology VendorTCS, are working to resolve the issue quot;, MCX said in a notice to exchanges. Zerodha said in its twitter handle, due to operational delays at the Multi Commodity Exchange (MCX), the commodity markets will open at 10am today. Meanwhile, markets traded marginally higher with the Sensex up 0.2 percent to 71,191 points. Shrey Jain, Founder amp;amp; CEO, SAS Online on MCX said brokers are awaiting position, margin and trade files from MCX without which processing of previous trading session is pending. Once files are received we will do the Beginning of Day process and prepare the system for today's trading. amp;nbsp;\""
            ],
            "application/vnd.google.colaboratory.intrinsic+json": {
              "type": "string"
            }
          },
          "metadata": {},
          "execution_count": 10
        }
      ]
    },
    {
      "cell_type": "code",
      "source": [
        "lemmetizer=WordNetLemmatizer()"
      ],
      "metadata": {
        "id": "Zx4m9penWYhV"
      },
      "execution_count": null,
      "outputs": []
    },
    {
      "cell_type": "code",
      "source": [
        "import nltk\n",
        "nltk.download('punkt')\n",
        "sentences = nltk.sent_tokenize(cleaned_text)\n",
        "lemmatizer = WordNetLemmatizer()"
      ],
      "metadata": {
        "id": "nail45LSaK0h",
        "colab": {
          "base_uri": "https://localhost:8080/"
        },
        "outputId": "98c8e48d-eabe-436f-da4a-16dccbc92124"
      },
      "execution_count": null,
      "outputs": [
        {
          "output_type": "stream",
          "name": "stderr",
          "text": [
            "[nltk_data] Downloading package punkt to /root/nltk_data...\n",
            "[nltk_data]   Unzipping tokenizers/punkt.zip.\n"
          ]
        }
      ]
    },
    {
      "cell_type": "code",
      "source": [
        "sentences"
      ],
      "metadata": {
        "colab": {
          "base_uri": "https://localhost:8080/"
        },
        "id": "TD2JXNQezZKP",
        "outputId": "b189213c-a890-4c87-e40d-70b04c9ea0f4"
      },
      "execution_count": null,
      "outputs": [
        {
          "output_type": "execute_result",
          "data": {
            "text/plain": [
              "['Some technical glitch has led Multi Commodity Exchange of India (MCX) to further delayed opening of the commodity markets to 1pm on February 13, instead of the 11am schedule earlier, CNBC reported, adding that a tech team was working to resolve the issue.',\n",
              " 'This was the second time when MCX has now revised its opening time.',\n",
              " 'Earlier, Zerodha and Upstox reported in their twitter handle that the opening of MCX delayed to 10am from 9am because of the technical glitch.',\n",
              " 'Then it further revised timing to 11am from 10am.',\n",
              " 'MCX earlier issued a circular saying trading hours for the commodity derivatives segment for February 13, 2024 have been revised from 9am to 10am.',\n",
              " 'quot;The Exchange is facing some technical issues in its commodity derivatives trading platform today, i.e.',\n",
              " 'February 13, 2024, and the teams of the Exchange as well as the Technology VendorTCS, are working to resolve the issue quot;, MCX said in a notice to exchanges.',\n",
              " 'Zerodha said in its twitter handle, due to operational delays at the Multi Commodity Exchange (MCX), the commodity markets will open at 10am today.',\n",
              " 'Meanwhile, markets traded marginally higher with the Sensex up 0.2 percent to 71,191 points.',\n",
              " 'Shrey Jain, Founder amp;amp; CEO, SAS Online on MCX said brokers are awaiting position, margin and trade files from MCX without which processing of previous trading session is pending.',\n",
              " \"Once files are received we will do the Beginning of Day process and prepare the system for today's trading.\",\n",
              " 'amp;nbsp;']"
            ]
          },
          "metadata": {},
          "execution_count": 13
        }
      ]
    },
    {
      "cell_type": "code",
      "source": [
        "corpus = []\n",
        "nltk.download('punkt')\n",
        "nltk.download('stopwords')\n",
        "nltk.download('wordnet')\n",
        "# Lemmatization\n",
        "for i in range(len(sentences)):\n",
        "    words = nltk.word_tokenize(sentences[i])\n",
        "    words = [lemmatizer.lemmatize(word) for word in words if word not in set(stopwords.words('english'))]\n",
        "    words = ' '.join(words)\n",
        "    words = words.lower()\n",
        "    words = words.split()\n",
        "    sentences[i]= ' '.join(words)\n",
        "    corpus.append(sentences)"
      ],
      "metadata": {
        "colab": {
          "base_uri": "https://localhost:8080/"
        },
        "id": "irT4SNQDlvme",
        "outputId": "60771f41-78cc-42a2-bb14-58267b0ea04f"
      },
      "execution_count": null,
      "outputs": [
        {
          "output_type": "stream",
          "name": "stderr",
          "text": [
            "[nltk_data] Downloading package punkt to /root/nltk_data...\n",
            "[nltk_data]   Package punkt is already up-to-date!\n",
            "[nltk_data] Downloading package stopwords to /root/nltk_data...\n",
            "[nltk_data]   Unzipping corpora/stopwords.zip.\n",
            "[nltk_data] Downloading package wordnet to /root/nltk_data...\n"
          ]
        }
      ]
    },
    {
      "cell_type": "code",
      "source": [
        "corpus"
      ],
      "metadata": {
        "colab": {
          "base_uri": "https://localhost:8080/"
        },
        "id": "R5I3tx_8mSfi",
        "outputId": "f7be10a8-bcd0-4a64-f40a-743581c2dcee"
      },
      "execution_count": null,
      "outputs": [
        {
          "output_type": "execute_result",
          "data": {
            "text/plain": [
              "[['some technical glitch led multi commodity exchange india ( mcx ) delayed opening commodity market 1pm february 13 , instead 11am schedule earlier , cnbc reported , adding tech team working resolve issue .',\n",
              "  'this second time mcx revised opening time .',\n",
              "  'earlier , zerodha upstox reported twitter handle opening mcx delayed 10am 9am technical glitch .',\n",
              "  'then revised timing 11am 10am .',\n",
              "  'mcx earlier issued circular saying trading hour commodity derivative segment february 13 , 2024 revised 9am 10am .',\n",
              "  'quot ; the exchange facing technical issue commodity derivative trading platform today , i.e .',\n",
              "  'february 13 , 2024 , team exchange well technology vendortcs , working resolve issue quot ; , mcx said notice exchange .',\n",
              "  'zerodha said twitter handle , due operational delay multi commodity exchange ( mcx ) , commodity market open 10am today .',\n",
              "  'meanwhile , market traded marginally higher sensex 0.2 percent 71,191 point .',\n",
              "  'shrey jain , founder amp ; amp ; ceo , sas online mcx said broker awaiting position , margin trade file mcx without processing previous trading session pending .',\n",
              "  \"once file received beginning day process prepare system today 's trading .\",\n",
              "  'amp ; nbsp ;'],\n",
              " ['some technical glitch led multi commodity exchange india ( mcx ) delayed opening commodity market 1pm february 13 , instead 11am schedule earlier , cnbc reported , adding tech team working resolve issue .',\n",
              "  'this second time mcx revised opening time .',\n",
              "  'earlier , zerodha upstox reported twitter handle opening mcx delayed 10am 9am technical glitch .',\n",
              "  'then revised timing 11am 10am .',\n",
              "  'mcx earlier issued circular saying trading hour commodity derivative segment february 13 , 2024 revised 9am 10am .',\n",
              "  'quot ; the exchange facing technical issue commodity derivative trading platform today , i.e .',\n",
              "  'february 13 , 2024 , team exchange well technology vendortcs , working resolve issue quot ; , mcx said notice exchange .',\n",
              "  'zerodha said twitter handle , due operational delay multi commodity exchange ( mcx ) , commodity market open 10am today .',\n",
              "  'meanwhile , market traded marginally higher sensex 0.2 percent 71,191 point .',\n",
              "  'shrey jain , founder amp ; amp ; ceo , sas online mcx said broker awaiting position , margin trade file mcx without processing previous trading session pending .',\n",
              "  \"once file received beginning day process prepare system today 's trading .\",\n",
              "  'amp ; nbsp ;'],\n",
              " ['some technical glitch led multi commodity exchange india ( mcx ) delayed opening commodity market 1pm february 13 , instead 11am schedule earlier , cnbc reported , adding tech team working resolve issue .',\n",
              "  'this second time mcx revised opening time .',\n",
              "  'earlier , zerodha upstox reported twitter handle opening mcx delayed 10am 9am technical glitch .',\n",
              "  'then revised timing 11am 10am .',\n",
              "  'mcx earlier issued circular saying trading hour commodity derivative segment february 13 , 2024 revised 9am 10am .',\n",
              "  'quot ; the exchange facing technical issue commodity derivative trading platform today , i.e .',\n",
              "  'february 13 , 2024 , team exchange well technology vendortcs , working resolve issue quot ; , mcx said notice exchange .',\n",
              "  'zerodha said twitter handle , due operational delay multi commodity exchange ( mcx ) , commodity market open 10am today .',\n",
              "  'meanwhile , market traded marginally higher sensex 0.2 percent 71,191 point .',\n",
              "  'shrey jain , founder amp ; amp ; ceo , sas online mcx said broker awaiting position , margin trade file mcx without processing previous trading session pending .',\n",
              "  \"once file received beginning day process prepare system today 's trading .\",\n",
              "  'amp ; nbsp ;'],\n",
              " ['some technical glitch led multi commodity exchange india ( mcx ) delayed opening commodity market 1pm february 13 , instead 11am schedule earlier , cnbc reported , adding tech team working resolve issue .',\n",
              "  'this second time mcx revised opening time .',\n",
              "  'earlier , zerodha upstox reported twitter handle opening mcx delayed 10am 9am technical glitch .',\n",
              "  'then revised timing 11am 10am .',\n",
              "  'mcx earlier issued circular saying trading hour commodity derivative segment february 13 , 2024 revised 9am 10am .',\n",
              "  'quot ; the exchange facing technical issue commodity derivative trading platform today , i.e .',\n",
              "  'february 13 , 2024 , team exchange well technology vendortcs , working resolve issue quot ; , mcx said notice exchange .',\n",
              "  'zerodha said twitter handle , due operational delay multi commodity exchange ( mcx ) , commodity market open 10am today .',\n",
              "  'meanwhile , market traded marginally higher sensex 0.2 percent 71,191 point .',\n",
              "  'shrey jain , founder amp ; amp ; ceo , sas online mcx said broker awaiting position , margin trade file mcx without processing previous trading session pending .',\n",
              "  \"once file received beginning day process prepare system today 's trading .\",\n",
              "  'amp ; nbsp ;'],\n",
              " ['some technical glitch led multi commodity exchange india ( mcx ) delayed opening commodity market 1pm february 13 , instead 11am schedule earlier , cnbc reported , adding tech team working resolve issue .',\n",
              "  'this second time mcx revised opening time .',\n",
              "  'earlier , zerodha upstox reported twitter handle opening mcx delayed 10am 9am technical glitch .',\n",
              "  'then revised timing 11am 10am .',\n",
              "  'mcx earlier issued circular saying trading hour commodity derivative segment february 13 , 2024 revised 9am 10am .',\n",
              "  'quot ; the exchange facing technical issue commodity derivative trading platform today , i.e .',\n",
              "  'february 13 , 2024 , team exchange well technology vendortcs , working resolve issue quot ; , mcx said notice exchange .',\n",
              "  'zerodha said twitter handle , due operational delay multi commodity exchange ( mcx ) , commodity market open 10am today .',\n",
              "  'meanwhile , market traded marginally higher sensex 0.2 percent 71,191 point .',\n",
              "  'shrey jain , founder amp ; amp ; ceo , sas online mcx said broker awaiting position , margin trade file mcx without processing previous trading session pending .',\n",
              "  \"once file received beginning day process prepare system today 's trading .\",\n",
              "  'amp ; nbsp ;'],\n",
              " ['some technical glitch led multi commodity exchange india ( mcx ) delayed opening commodity market 1pm february 13 , instead 11am schedule earlier , cnbc reported , adding tech team working resolve issue .',\n",
              "  'this second time mcx revised opening time .',\n",
              "  'earlier , zerodha upstox reported twitter handle opening mcx delayed 10am 9am technical glitch .',\n",
              "  'then revised timing 11am 10am .',\n",
              "  'mcx earlier issued circular saying trading hour commodity derivative segment february 13 , 2024 revised 9am 10am .',\n",
              "  'quot ; the exchange facing technical issue commodity derivative trading platform today , i.e .',\n",
              "  'february 13 , 2024 , team exchange well technology vendortcs , working resolve issue quot ; , mcx said notice exchange .',\n",
              "  'zerodha said twitter handle , due operational delay multi commodity exchange ( mcx ) , commodity market open 10am today .',\n",
              "  'meanwhile , market traded marginally higher sensex 0.2 percent 71,191 point .',\n",
              "  'shrey jain , founder amp ; amp ; ceo , sas online mcx said broker awaiting position , margin trade file mcx without processing previous trading session pending .',\n",
              "  \"once file received beginning day process prepare system today 's trading .\",\n",
              "  'amp ; nbsp ;'],\n",
              " ['some technical glitch led multi commodity exchange india ( mcx ) delayed opening commodity market 1pm february 13 , instead 11am schedule earlier , cnbc reported , adding tech team working resolve issue .',\n",
              "  'this second time mcx revised opening time .',\n",
              "  'earlier , zerodha upstox reported twitter handle opening mcx delayed 10am 9am technical glitch .',\n",
              "  'then revised timing 11am 10am .',\n",
              "  'mcx earlier issued circular saying trading hour commodity derivative segment february 13 , 2024 revised 9am 10am .',\n",
              "  'quot ; the exchange facing technical issue commodity derivative trading platform today , i.e .',\n",
              "  'february 13 , 2024 , team exchange well technology vendortcs , working resolve issue quot ; , mcx said notice exchange .',\n",
              "  'zerodha said twitter handle , due operational delay multi commodity exchange ( mcx ) , commodity market open 10am today .',\n",
              "  'meanwhile , market traded marginally higher sensex 0.2 percent 71,191 point .',\n",
              "  'shrey jain , founder amp ; amp ; ceo , sas online mcx said broker awaiting position , margin trade file mcx without processing previous trading session pending .',\n",
              "  \"once file received beginning day process prepare system today 's trading .\",\n",
              "  'amp ; nbsp ;'],\n",
              " ['some technical glitch led multi commodity exchange india ( mcx ) delayed opening commodity market 1pm february 13 , instead 11am schedule earlier , cnbc reported , adding tech team working resolve issue .',\n",
              "  'this second time mcx revised opening time .',\n",
              "  'earlier , zerodha upstox reported twitter handle opening mcx delayed 10am 9am technical glitch .',\n",
              "  'then revised timing 11am 10am .',\n",
              "  'mcx earlier issued circular saying trading hour commodity derivative segment february 13 , 2024 revised 9am 10am .',\n",
              "  'quot ; the exchange facing technical issue commodity derivative trading platform today , i.e .',\n",
              "  'february 13 , 2024 , team exchange well technology vendortcs , working resolve issue quot ; , mcx said notice exchange .',\n",
              "  'zerodha said twitter handle , due operational delay multi commodity exchange ( mcx ) , commodity market open 10am today .',\n",
              "  'meanwhile , market traded marginally higher sensex 0.2 percent 71,191 point .',\n",
              "  'shrey jain , founder amp ; amp ; ceo , sas online mcx said broker awaiting position , margin trade file mcx without processing previous trading session pending .',\n",
              "  \"once file received beginning day process prepare system today 's trading .\",\n",
              "  'amp ; nbsp ;'],\n",
              " ['some technical glitch led multi commodity exchange india ( mcx ) delayed opening commodity market 1pm february 13 , instead 11am schedule earlier , cnbc reported , adding tech team working resolve issue .',\n",
              "  'this second time mcx revised opening time .',\n",
              "  'earlier , zerodha upstox reported twitter handle opening mcx delayed 10am 9am technical glitch .',\n",
              "  'then revised timing 11am 10am .',\n",
              "  'mcx earlier issued circular saying trading hour commodity derivative segment february 13 , 2024 revised 9am 10am .',\n",
              "  'quot ; the exchange facing technical issue commodity derivative trading platform today , i.e .',\n",
              "  'february 13 , 2024 , team exchange well technology vendortcs , working resolve issue quot ; , mcx said notice exchange .',\n",
              "  'zerodha said twitter handle , due operational delay multi commodity exchange ( mcx ) , commodity market open 10am today .',\n",
              "  'meanwhile , market traded marginally higher sensex 0.2 percent 71,191 point .',\n",
              "  'shrey jain , founder amp ; amp ; ceo , sas online mcx said broker awaiting position , margin trade file mcx without processing previous trading session pending .',\n",
              "  \"once file received beginning day process prepare system today 's trading .\",\n",
              "  'amp ; nbsp ;'],\n",
              " ['some technical glitch led multi commodity exchange india ( mcx ) delayed opening commodity market 1pm february 13 , instead 11am schedule earlier , cnbc reported , adding tech team working resolve issue .',\n",
              "  'this second time mcx revised opening time .',\n",
              "  'earlier , zerodha upstox reported twitter handle opening mcx delayed 10am 9am technical glitch .',\n",
              "  'then revised timing 11am 10am .',\n",
              "  'mcx earlier issued circular saying trading hour commodity derivative segment february 13 , 2024 revised 9am 10am .',\n",
              "  'quot ; the exchange facing technical issue commodity derivative trading platform today , i.e .',\n",
              "  'february 13 , 2024 , team exchange well technology vendortcs , working resolve issue quot ; , mcx said notice exchange .',\n",
              "  'zerodha said twitter handle , due operational delay multi commodity exchange ( mcx ) , commodity market open 10am today .',\n",
              "  'meanwhile , market traded marginally higher sensex 0.2 percent 71,191 point .',\n",
              "  'shrey jain , founder amp ; amp ; ceo , sas online mcx said broker awaiting position , margin trade file mcx without processing previous trading session pending .',\n",
              "  \"once file received beginning day process prepare system today 's trading .\",\n",
              "  'amp ; nbsp ;'],\n",
              " ['some technical glitch led multi commodity exchange india ( mcx ) delayed opening commodity market 1pm february 13 , instead 11am schedule earlier , cnbc reported , adding tech team working resolve issue .',\n",
              "  'this second time mcx revised opening time .',\n",
              "  'earlier , zerodha upstox reported twitter handle opening mcx delayed 10am 9am technical glitch .',\n",
              "  'then revised timing 11am 10am .',\n",
              "  'mcx earlier issued circular saying trading hour commodity derivative segment february 13 , 2024 revised 9am 10am .',\n",
              "  'quot ; the exchange facing technical issue commodity derivative trading platform today , i.e .',\n",
              "  'february 13 , 2024 , team exchange well technology vendortcs , working resolve issue quot ; , mcx said notice exchange .',\n",
              "  'zerodha said twitter handle , due operational delay multi commodity exchange ( mcx ) , commodity market open 10am today .',\n",
              "  'meanwhile , market traded marginally higher sensex 0.2 percent 71,191 point .',\n",
              "  'shrey jain , founder amp ; amp ; ceo , sas online mcx said broker awaiting position , margin trade file mcx without processing previous trading session pending .',\n",
              "  \"once file received beginning day process prepare system today 's trading .\",\n",
              "  'amp ; nbsp ;'],\n",
              " ['some technical glitch led multi commodity exchange india ( mcx ) delayed opening commodity market 1pm february 13 , instead 11am schedule earlier , cnbc reported , adding tech team working resolve issue .',\n",
              "  'this second time mcx revised opening time .',\n",
              "  'earlier , zerodha upstox reported twitter handle opening mcx delayed 10am 9am technical glitch .',\n",
              "  'then revised timing 11am 10am .',\n",
              "  'mcx earlier issued circular saying trading hour commodity derivative segment february 13 , 2024 revised 9am 10am .',\n",
              "  'quot ; the exchange facing technical issue commodity derivative trading platform today , i.e .',\n",
              "  'february 13 , 2024 , team exchange well technology vendortcs , working resolve issue quot ; , mcx said notice exchange .',\n",
              "  'zerodha said twitter handle , due operational delay multi commodity exchange ( mcx ) , commodity market open 10am today .',\n",
              "  'meanwhile , market traded marginally higher sensex 0.2 percent 71,191 point .',\n",
              "  'shrey jain , founder amp ; amp ; ceo , sas online mcx said broker awaiting position , margin trade file mcx without processing previous trading session pending .',\n",
              "  \"once file received beginning day process prepare system today 's trading .\",\n",
              "  'amp ; nbsp ;']]"
            ]
          },
          "metadata": {},
          "execution_count": 15
        }
      ]
    },
    {
      "cell_type": "code",
      "source": [
        "type(corpus)"
      ],
      "metadata": {
        "colab": {
          "base_uri": "https://localhost:8080/"
        },
        "id": "OtxyT2BXjmXK",
        "outputId": "577380a8-92b9-4217-d131-6425a6fd5c72"
      },
      "execution_count": null,
      "outputs": [
        {
          "output_type": "execute_result",
          "data": {
            "text/plain": [
              "list"
            ]
          },
          "metadata": {},
          "execution_count": 16
        }
      ]
    },
    {
      "cell_type": "markdown",
      "source": [
        "**Module 1**"
      ],
      "metadata": {
        "id": "N1Iiv4cWFpB5"
      }
    },
    {
      "cell_type": "code",
      "source": [
        "from transformers import GPT2Tokenizer, GPT2LMHeadModel\n",
        "from transformers import pipeline\n",
        "\n",
        "cleaned_text = corpus\n",
        "cleaned_text_str = ' '.join(cleaned_text[0])\n",
        "tokenizer = GPT2Tokenizer.from_pretrained(\"gpt2\")\n",
        "model = GPT2LMHeadModel.from_pretrained(\"gpt2\")\n",
        "\n",
        "# Tokenize and generate summary using GPT-2\n",
        "inputs = tokenizer(cleaned_text_str, return_tensors=\"pt\", max_length=100, truncation=True)\n",
        "summary_ids = model.generate(inputs[\"input_ids\"], max_length=101, length_penalty=2.0, num_beams=4, early_stopping=True)\n",
        "summary = tokenizer.decode(summary_ids[0], skip_special_tokens=True)"
      ],
      "metadata": {
        "id": "kr1aEiN-mbvA"
      },
      "execution_count": null,
      "outputs": []
    },
    {
      "cell_type": "code",
      "source": [
        "summary"
      ],
      "metadata": {
        "colab": {
          "base_uri": "https://localhost:8080/",
          "height": 72
        },
        "id": "oA372Bseo3x9",
        "outputId": "2b75c4cb-63da-4e0f-aaf9-29fff81481bc"
      },
      "execution_count": null,
      "outputs": [
        {
          "output_type": "execute_result",
          "data": {
            "text/plain": [
              "'the share price hindalco industries ltd fell 10 percent february 13 us-based subsidiary novelis revised return guidance bay minette project double digit previous mid-teens. the stock trading rs 524.15 bse, 10 percent previous close, benchmark sensex gained 0.01 percent 71,078 point. novelis said bay minette project see 65 percent increase total capital cost one-year delay. novelis revised project cost $ 4.1 billion, expecting commissioning of'"
            ],
            "application/vnd.google.colaboratory.intrinsic+json": {
              "type": "string"
            }
          },
          "metadata": {},
          "execution_count": 27
        }
      ]
    },
    {
      "cell_type": "code",
      "source": [
        "cleaned_summary = summary.replace(\"quot\", \"\")\n",
        "print(cleaned_summary)"
      ],
      "metadata": {
        "colab": {
          "base_uri": "https://localhost:8080/"
        },
        "id": "KC2lG5gnvh9B",
        "outputId": "a5455b65-19ee-412b-8a0e-de7c22757c78"
      },
      "execution_count": null,
      "outputs": [
        {
          "output_type": "stream",
          "name": "stdout",
          "text": [
            "the share price hindalco industries ltd fell 10 percent february 13 us-based subsidiary novelis revised return guidance bay minette project double digit previous mid-teens. the stock trading rs 524.15 bse, 10 percent previous close, benchmark sensex gained 0.01 percent 71,078 point. novelis said bay minette project see 65 percent increase total capital cost one-year delay. novelis revised project cost $ 4.1 billion, expecting commissioning of\n"
          ]
        }
      ]
    },
    {
      "cell_type": "markdown",
      "source": [
        "**Module 2**"
      ],
      "metadata": {
        "id": "Qki6c0cUFk5-"
      }
    },
    {
      "cell_type": "code",
      "source": [
        "!pip install bert-extractive-summarizer"
      ],
      "metadata": {
        "colab": {
          "base_uri": "https://localhost:8080/"
        },
        "id": "-l_nEIS-EoRC",
        "outputId": "44893db8-abf0-475a-f28a-17398025e235"
      },
      "execution_count": null,
      "outputs": [
        {
          "output_type": "stream",
          "name": "stdout",
          "text": [
            "Requirement already satisfied: bert-extractive-summarizer in /usr/local/lib/python3.10/dist-packages (0.10.1)\n",
            "Requirement already satisfied: transformers in /usr/local/lib/python3.10/dist-packages (from bert-extractive-summarizer) (4.35.2)\n",
            "Requirement already satisfied: scikit-learn in /usr/local/lib/python3.10/dist-packages (from bert-extractive-summarizer) (1.2.2)\n",
            "Requirement already satisfied: spacy in /usr/local/lib/python3.10/dist-packages (from bert-extractive-summarizer) (3.7.2)\n",
            "Requirement already satisfied: numpy>=1.17.3 in /usr/local/lib/python3.10/dist-packages (from scikit-learn->bert-extractive-summarizer) (1.25.2)\n",
            "Requirement already satisfied: scipy>=1.3.2 in /usr/local/lib/python3.10/dist-packages (from scikit-learn->bert-extractive-summarizer) (1.11.4)\n",
            "Requirement already satisfied: joblib>=1.1.1 in /usr/local/lib/python3.10/dist-packages (from scikit-learn->bert-extractive-summarizer) (1.3.2)\n",
            "Requirement already satisfied: threadpoolctl>=2.0.0 in /usr/local/lib/python3.10/dist-packages (from scikit-learn->bert-extractive-summarizer) (3.2.0)\n",
            "Requirement already satisfied: spacy-legacy<3.1.0,>=3.0.11 in /usr/local/lib/python3.10/dist-packages (from spacy->bert-extractive-summarizer) (3.0.12)\n",
            "Requirement already satisfied: spacy-loggers<2.0.0,>=1.0.0 in /usr/local/lib/python3.10/dist-packages (from spacy->bert-extractive-summarizer) (1.0.5)\n",
            "Requirement already satisfied: murmurhash<1.1.0,>=0.28.0 in /usr/local/lib/python3.10/dist-packages (from spacy->bert-extractive-summarizer) (1.0.10)\n",
            "Requirement already satisfied: cymem<2.1.0,>=2.0.2 in /usr/local/lib/python3.10/dist-packages (from spacy->bert-extractive-summarizer) (2.0.8)\n",
            "Requirement already satisfied: preshed<3.1.0,>=3.0.2 in /usr/local/lib/python3.10/dist-packages (from spacy->bert-extractive-summarizer) (3.0.9)\n",
            "Requirement already satisfied: thinc<8.3.0,>=8.1.8 in /usr/local/lib/python3.10/dist-packages (from spacy->bert-extractive-summarizer) (8.2.3)\n",
            "Requirement already satisfied: wasabi<1.2.0,>=0.9.1 in /usr/local/lib/python3.10/dist-packages (from spacy->bert-extractive-summarizer) (1.1.2)\n",
            "Requirement already satisfied: srsly<3.0.0,>=2.4.3 in /usr/local/lib/python3.10/dist-packages (from spacy->bert-extractive-summarizer) (2.4.8)\n",
            "Requirement already satisfied: catalogue<2.1.0,>=2.0.6 in /usr/local/lib/python3.10/dist-packages (from spacy->bert-extractive-summarizer) (2.0.10)\n",
            "Requirement already satisfied: weasel<0.4.0,>=0.1.0 in /usr/local/lib/python3.10/dist-packages (from spacy->bert-extractive-summarizer) (0.3.4)\n",
            "Requirement already satisfied: typer<0.10.0,>=0.3.0 in /usr/local/lib/python3.10/dist-packages (from spacy->bert-extractive-summarizer) (0.9.0)\n",
            "Requirement already satisfied: smart-open<7.0.0,>=5.2.1 in /usr/local/lib/python3.10/dist-packages (from spacy->bert-extractive-summarizer) (6.4.0)\n",
            "Requirement already satisfied: tqdm<5.0.0,>=4.38.0 in /usr/local/lib/python3.10/dist-packages (from spacy->bert-extractive-summarizer) (4.66.1)\n",
            "Requirement already satisfied: requests<3.0.0,>=2.13.0 in /usr/local/lib/python3.10/dist-packages (from spacy->bert-extractive-summarizer) (2.31.0)\n",
            "Requirement already satisfied: pydantic!=1.8,!=1.8.1,<3.0.0,>=1.7.4 in /usr/local/lib/python3.10/dist-packages (from spacy->bert-extractive-summarizer) (2.6.1)\n",
            "Requirement already satisfied: jinja2 in /usr/local/lib/python3.10/dist-packages (from spacy->bert-extractive-summarizer) (3.1.3)\n",
            "Requirement already satisfied: setuptools in /usr/local/lib/python3.10/dist-packages (from spacy->bert-extractive-summarizer) (67.7.2)\n",
            "Requirement already satisfied: packaging>=20.0 in /usr/local/lib/python3.10/dist-packages (from spacy->bert-extractive-summarizer) (23.2)\n",
            "Requirement already satisfied: langcodes<4.0.0,>=3.2.0 in /usr/local/lib/python3.10/dist-packages (from spacy->bert-extractive-summarizer) (3.3.0)\n",
            "Requirement already satisfied: filelock in /usr/local/lib/python3.10/dist-packages (from transformers->bert-extractive-summarizer) (3.13.1)\n",
            "Requirement already satisfied: huggingface-hub<1.0,>=0.16.4 in /usr/local/lib/python3.10/dist-packages (from transformers->bert-extractive-summarizer) (0.20.3)\n",
            "Requirement already satisfied: pyyaml>=5.1 in /usr/local/lib/python3.10/dist-packages (from transformers->bert-extractive-summarizer) (6.0.1)\n",
            "Requirement already satisfied: regex!=2019.12.17 in /usr/local/lib/python3.10/dist-packages (from transformers->bert-extractive-summarizer) (2023.12.25)\n",
            "Requirement already satisfied: tokenizers<0.19,>=0.14 in /usr/local/lib/python3.10/dist-packages (from transformers->bert-extractive-summarizer) (0.15.1)\n",
            "Requirement already satisfied: safetensors>=0.3.1 in /usr/local/lib/python3.10/dist-packages (from transformers->bert-extractive-summarizer) (0.4.2)\n",
            "Requirement already satisfied: fsspec>=2023.5.0 in /usr/local/lib/python3.10/dist-packages (from huggingface-hub<1.0,>=0.16.4->transformers->bert-extractive-summarizer) (2023.6.0)\n",
            "Requirement already satisfied: typing-extensions>=3.7.4.3 in /usr/local/lib/python3.10/dist-packages (from huggingface-hub<1.0,>=0.16.4->transformers->bert-extractive-summarizer) (4.9.0)\n",
            "Requirement already satisfied: annotated-types>=0.4.0 in /usr/local/lib/python3.10/dist-packages (from pydantic!=1.8,!=1.8.1,<3.0.0,>=1.7.4->spacy->bert-extractive-summarizer) (0.6.0)\n",
            "Requirement already satisfied: pydantic-core==2.16.2 in /usr/local/lib/python3.10/dist-packages (from pydantic!=1.8,!=1.8.1,<3.0.0,>=1.7.4->spacy->bert-extractive-summarizer) (2.16.2)\n",
            "Requirement already satisfied: charset-normalizer<4,>=2 in /usr/local/lib/python3.10/dist-packages (from requests<3.0.0,>=2.13.0->spacy->bert-extractive-summarizer) (3.3.2)\n",
            "Requirement already satisfied: idna<4,>=2.5 in /usr/local/lib/python3.10/dist-packages (from requests<3.0.0,>=2.13.0->spacy->bert-extractive-summarizer) (3.6)\n",
            "Requirement already satisfied: urllib3<3,>=1.21.1 in /usr/local/lib/python3.10/dist-packages (from requests<3.0.0,>=2.13.0->spacy->bert-extractive-summarizer) (2.0.7)\n",
            "Requirement already satisfied: certifi>=2017.4.17 in /usr/local/lib/python3.10/dist-packages (from requests<3.0.0,>=2.13.0->spacy->bert-extractive-summarizer) (2024.2.2)\n",
            "Requirement already satisfied: blis<0.8.0,>=0.7.8 in /usr/local/lib/python3.10/dist-packages (from thinc<8.3.0,>=8.1.8->spacy->bert-extractive-summarizer) (0.7.11)\n",
            "Requirement already satisfied: confection<1.0.0,>=0.0.1 in /usr/local/lib/python3.10/dist-packages (from thinc<8.3.0,>=8.1.8->spacy->bert-extractive-summarizer) (0.1.4)\n",
            "Requirement already satisfied: click<9.0.0,>=7.1.1 in /usr/local/lib/python3.10/dist-packages (from typer<0.10.0,>=0.3.0->spacy->bert-extractive-summarizer) (8.1.7)\n",
            "Requirement already satisfied: cloudpathlib<0.17.0,>=0.7.0 in /usr/local/lib/python3.10/dist-packages (from weasel<0.4.0,>=0.1.0->spacy->bert-extractive-summarizer) (0.16.0)\n",
            "Requirement already satisfied: MarkupSafe>=2.0 in /usr/local/lib/python3.10/dist-packages (from jinja2->spacy->bert-extractive-summarizer) (2.1.5)\n"
          ]
        }
      ]
    },
    {
      "cell_type": "code",
      "source": [
        "from summarizer import Summarizer\n",
        "cleaned_text = corpus\n",
        "cleaned_text_str = ' '.join(cleaned_text[0])\n",
        "summarizer = Summarizer()\n",
        "summaryxy = summarizer(cleaned_text_str, min_length=100, max_length=150)"
      ],
      "metadata": {
        "colab": {
          "base_uri": "https://localhost:8080/"
        },
        "id": "fTtM9dGBv565",
        "outputId": "0101b9e7-6911-4e6e-bac3-657a1d51f206"
      },
      "execution_count": null,
      "outputs": [
        {
          "output_type": "stream",
          "name": "stderr",
          "text": [
            "/usr/local/lib/python3.10/dist-packages/sklearn/cluster/_kmeans.py:870: FutureWarning: The default value of `n_init` will change from 10 to 'auto' in 1.4. Set the value of `n_init` explicitly to suppress the warning\n",
            "  warnings.warn(\n"
          ]
        }
      ]
    },
    {
      "cell_type": "code",
      "source": [
        "cleaned_summary = summaryxy.replace(\"quot\", \"\")\n",
        "cleaned_summary = cleaned_summary.replace(\";\", \"\")\n",
        "print(cleaned_summary)"
      ],
      "metadata": {
        "colab": {
          "base_uri": "https://localhost:8080/"
        },
        "id": "NuYWwK-_wi_Q",
        "outputId": "6cbfce62-8af1-4777-ba24-a32178585210"
      },
      "execution_count": null,
      "outputs": [
        {
          "output_type": "stream",
          "name": "stdout",
          "text": [
            "mcx earlier issued circular saying trading hour commodity derivative segment february 13 , 2024 revised 9am 10am . february 13 , 2024 , team exchange well technology vendortcs , working resolve issue   , mcx said notice exchange .\n"
          ]
        }
      ]
    },
    {
      "cell_type": "code",
      "source": [],
      "metadata": {
        "id": "y9aEVJWiv15E"
      },
      "execution_count": null,
      "outputs": []
    }
  ]
}